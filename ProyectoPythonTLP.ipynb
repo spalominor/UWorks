{
  "nbformat": 4,
  "nbformat_minor": 0,
  "metadata": {
    "colab": {
      "provenance": [],
      "toc_visible": true,
      "include_colab_link": true
    },
    "kernelspec": {
      "name": "python3",
      "display_name": "Python 3"
    },
    "language_info": {
      "name": "python"
    }
  },
  "cells": [
    {
      "cell_type": "markdown",
      "metadata": {
        "id": "view-in-github",
        "colab_type": "text"
      },
      "source": [
        "<a href=\"https://colab.research.google.com/github/spalominor/UWorks/blob/main/ProyectoPythonTLP.ipynb\" target=\"_parent\"><img src=\"https://colab.research.google.com/assets/colab-badge.svg\" alt=\"Open In Colab\"/></a>"
      ]
    },
    {
      "cell_type": "markdown",
      "source": [
        "# Taller Python\n",
        "\n",
        "[Link al dataset](https://www.kaggle.com/datasets/shreyanshverma27/imdb-horror-chilling-movie-dataset?resource=download)\n",
        "\n",
        "IMDb Horror: Chilling Movie Dataset\n",
        "The IMDb Horror Movie Dataset is a comprehensive collection that opens the doors to a rich and captivating realm of horror cinema. This dataset presents a trove of information on spine-chilling films, enabling enthusiasts, researchers, and data scientists to explore and analyze the intriguing world of horror movies.\n",
        "\n",
        "The dataset consists of eight essential columns, each providing valuable details to delve into the depths of the horror genre\n",
        "\n",
        "Realizado por:\n",
        "**Gustavo Adolfo Pérez Pérez** y **Samuel Palomino Restrepo**"
      ],
      "metadata": {
        "id": "WOWM16UAnb8i"
      }
    },
    {
      "cell_type": "markdown",
      "source": [
        "# Importar el dataset"
      ],
      "metadata": {
        "id": "FD1EhuK7j7HI"
      }
    },
    {
      "cell_type": "code",
      "execution_count": 258,
      "metadata": {
        "colab": {
          "base_uri": "https://localhost:8080/"
        },
        "id": "9g_NCOLriPTB",
        "outputId": "a4420586-f9e1-4931-9323-9dd291bad81c"
      },
      "outputs": [
        {
          "output_type": "stream",
          "name": "stdout",
          "text": [
            "<class 'pandas.core.frame.DataFrame'>\n",
            "RangeIndex: 836 entries, 0 to 835\n",
            "Data columns (total 8 columns):\n",
            " #   Column       Non-Null Count  Dtype  \n",
            "---  ------       --------------  -----  \n",
            " 0   Movie Title  836 non-null    object \n",
            " 1   Movie Year   836 non-null    int64  \n",
            " 2   Runtime      836 non-null    int64  \n",
            " 3   Genre        836 non-null    object \n",
            " 4   Rating       836 non-null    float64\n",
            " 5   Director     836 non-null    object \n",
            " 6   Votes        836 non-null    object \n",
            " 7   Gross        637 non-null    object \n",
            "dtypes: float64(1), int64(2), object(5)\n",
            "memory usage: 52.4+ KB\n",
            "None\n"
          ]
        }
      ],
      "source": [
        "import pandas as pd\n",
        "\n",
        "\n",
        "\n",
        "# Definir la ruta de descarga del *.csv publicado en Drive\n",
        "url_csv = (\n",
        "    \"https://docs.google.com/spreadsheets/d/e/2PACX-1vQo5iOk3JLxen0dP3YuzSTD4Pq\"\n",
        "    \"0Vd8SVnwp8uJKLRU36Z5epT_9Zbx0RDdcUcitGCxe8foHxicAOZgY/pub?gid=639161250&si\"\n",
        "    \"ngle=true&output=csv\")\n",
        "\n",
        "# Cargar el dataset a un DataFrame de Pandas\n",
        "df_movies = pd.read_csv(url_csv)\n",
        "\n",
        "# Verificar que se haya cargado correctamente\n",
        "print(df_movies.info())"
      ]
    },
    {
      "cell_type": "markdown",
      "source": [
        "# Imprimir los primeros 5 datos"
      ],
      "metadata": {
        "id": "1pe2_R3doBUt"
      }
    },
    {
      "cell_type": "code",
      "source": [
        "# Imprimir las primeras cinco filas\n",
        "print(df_movies.head())"
      ],
      "metadata": {
        "colab": {
          "base_uri": "https://localhost:8080/"
        },
        "id": "btg1o83DoCa7",
        "outputId": "1e186ba5-1f9a-473e-da9c-4a367064b27c"
      },
      "execution_count": 259,
      "outputs": [
        {
          "output_type": "stream",
          "name": "stdout",
          "text": [
            "   Movie Title  Movie Year  Runtime                      Genre  Rating  \\\n",
            "0        Alien        1979      117             Horror, Sci-Fi     8.5   \n",
            "1       Psycho        1960      109  Horror, Mystery, Thriller     8.5   \n",
            "2  The Shining        1980      146              Drama, Horror     8.4   \n",
            "3    The Thing        1982      109    Horror, Mystery, Sci-Fi     8.2   \n",
            "4      Tumbbad        2018      104     Drama, Fantasy, Horror     8.2   \n",
            "\n",
            "           Director       Votes    Gross  \n",
            "0      Ridley Scott  09,05,0275  $78.90M  \n",
            "1  Alfred Hitchcock    6,89,068  $32.00M  \n",
            "2   Stanley Kubrick   10,51,582  $44.02M  \n",
            "3    John Carpenter    4,39,793  $13.78M  \n",
            "4   Rahi Anil Barve      53,297      NaN  \n"
          ]
        }
      ]
    },
    {
      "cell_type": "markdown",
      "source": [
        "# Encontrar la longitud del dataset"
      ],
      "metadata": {
        "id": "CRGbKsuao25P"
      }
    },
    {
      "cell_type": "code",
      "source": [
        "# Imprimir la longitud del dataset\n",
        "filas, columnas = df_movies.shape\n",
        "print(f\"El dataset tiene {filas} filas y {columnas} columnas.\")"
      ],
      "metadata": {
        "colab": {
          "base_uri": "https://localhost:8080/"
        },
        "id": "VY49UsTWo5Ey",
        "outputId": "72eb263b-3d75-4a8e-be3f-0f24507e46fc"
      },
      "execution_count": 260,
      "outputs": [
        {
          "output_type": "stream",
          "name": "stdout",
          "text": [
            "El dataset tiene 836 filas y 8 columnas.\n"
          ]
        }
      ]
    },
    {
      "cell_type": "markdown",
      "source": [
        "# Imprimir los encabezados"
      ],
      "metadata": {
        "id": "DDg-925apHWF"
      }
    },
    {
      "cell_type": "code",
      "source": [
        "# Obtener el nombre de cada columna\n",
        "nombres_columnas_lista = df_movies.columns.tolist()\n",
        "\n",
        "# Organizar los nombres como un string\n",
        "nombres_columnas_string = \", \".join(nombres_columnas_lista)\n",
        "\n",
        "# Imprimir los encabezados\n",
        "print(nombres_columnas_string)"
      ],
      "metadata": {
        "colab": {
          "base_uri": "https://localhost:8080/"
        },
        "id": "SsrtRSUupKvY",
        "outputId": "60127473-2f0d-4d32-d974-cb35bce42183"
      },
      "execution_count": 261,
      "outputs": [
        {
          "output_type": "stream",
          "name": "stdout",
          "text": [
            "Movie Title, Movie Year, Runtime, Genre, Rating, Director, Votes, Gross\n"
          ]
        }
      ]
    },
    {
      "cell_type": "markdown",
      "source": [
        "# Obtener un sub dataFrame con películas desde 1980 hasta la actualidad"
      ],
      "metadata": {
        "id": "EV9OeWJmqq8i"
      }
    },
    {
      "cell_type": "code",
      "source": [
        "# Realizar el filtro y guardarlo en otro DataFrame\n",
        "df_movies_1980 = df_movies[df_movies[\"Movie Year\"] >= 1980]\n",
        "\n",
        "# Imprimir el nuevo DataFrame\n",
        "print(df_movies_1980)"
      ],
      "metadata": {
        "colab": {
          "base_uri": "https://localhost:8080/"
        },
        "id": "Ovva8bxnqtij",
        "outputId": "52897189-b21e-4534-c6b6-6d030182160b"
      },
      "execution_count": 262,
      "outputs": [
        {
          "output_type": "stream",
          "name": "stdout",
          "text": [
            "           Movie Title  Movie Year  Runtime                      Genre  \\\n",
            "2          The Shining        1980      146              Drama, Horror   \n",
            "3            The Thing        1982      109    Horror, Mystery, Sci-Fi   \n",
            "4              Tumbbad        2018      104     Drama, Fantasy, Horror   \n",
            "10   The Blue Elephant        2014      170     Drama, Horror, Mystery   \n",
            "11   Shaun of the Dead        2004       99             Comedy, Horror   \n",
            "..                 ...         ...      ...                        ...   \n",
            "830         BloodRayne        2005       95    Action, Fantasy, Horror   \n",
            "831            Troll 2        1990       95    Comedy, Fantasy, Horror   \n",
            "832             Laxmii        2020      141     Action, Comedy, Horror   \n",
            "833  Alone in the Dark        2005       96     Action, Horror, Sci-Fi   \n",
            "834  House of the Dead        2003       90  Action, Adventure, Horror   \n",
            "\n",
            "     Rating          Director      Votes    Gross  \n",
            "2       8.4   Stanley Kubrick  10,51,582  $44.02M  \n",
            "3       8.2    John Carpenter   4,39,793  $13.78M  \n",
            "4       8.2   Rahi Anil Barve     53,297      NaN  \n",
            "10      8.0      Marwan Hamed     29,151      NaN  \n",
            "11      7.9      Edgar Wright   5,72,237  $13.54M  \n",
            "..      ...               ...        ...      ...  \n",
            "830     3.0          Uwe Boll     36,527   $2.41M  \n",
            "831     2.9  Claudio Fragasso     33,908      NaN  \n",
            "832     2.5  Raghava Lawrence     58,053      NaN  \n",
            "833     2.4          Uwe Boll     46,403   $5.18M  \n",
            "834     2.1          Uwe Boll     38,041  $10.25M  \n",
            "\n",
            "[776 rows x 8 columns]\n"
          ]
        }
      ]
    },
    {
      "cell_type": "markdown",
      "source": [
        "# Dado el sub dataFrame anterior encontrar la película más corta, la menos rentable y el promedio de duración"
      ],
      "metadata": {
        "id": "og3UL3B6rHPO"
      }
    },
    {
      "cell_type": "markdown",
      "source": [
        "Película más corta"
      ],
      "metadata": {
        "id": "p9HLAlZcsEJc"
      }
    },
    {
      "cell_type": "code",
      "source": [
        "# Organizar el DataFrame de manera ascendente respecto a la duración\n",
        "df_sorted_duration = df_movies_1980.sort_values(by='Runtime', ascending=True)\n",
        "\n",
        "# Capturar el primer valor del arreglo\n",
        "pelicula_mas_corta = df_sorted_duration.iloc[0]\n",
        "\n",
        "# Imprimir el resultado\n",
        "print(f\"La película más corta es: {pelicula_mas_corta['Movie Title']}\")\n",
        "print(pelicula_mas_corta)"
      ],
      "metadata": {
        "colab": {
          "base_uri": "https://localhost:8080/"
        },
        "id": "cz9cdsnrrNCG",
        "outputId": "51c8e165-9663-43a2-fd61-d97eea3a0299"
      },
      "execution_count": 263,
      "outputs": [
        {
          "output_type": "stream",
          "name": "stdout",
          "text": [
            "La película más corta es: Host II\n",
            "Movie Title            Host II\n",
            "Movie Year                2020\n",
            "Runtime                     57\n",
            "Genre          Horror, Mystery\n",
            "Rating                     6.5\n",
            "Director            Rob Savage\n",
            "Votes                   34,122\n",
            "Gross                      NaN\n",
            "Name: 297, dtype: object\n"
          ]
        }
      ]
    },
    {
      "cell_type": "markdown",
      "source": [
        "Película menos rentable"
      ],
      "metadata": {
        "id": "rOiNVE8jsG_j"
      }
    },
    {
      "cell_type": "code",
      "source": [
        "# Organizar el DataFrame de manera ascendente respecto a la ganancia\n",
        "df_sorted_ganancia = df_movies_1980.sort_values(by='Gross', ascending=True)\n",
        "\n",
        "# Tomar el primer valor\n",
        "pelicula_menos_rentable = df_sorted_ganancia.iloc[0]\n",
        "\n",
        "# Imprimir el resultado\n",
        "print(f\"La película menos rentable: {pelicula_menos_rentable['Movie Title']}\")\n",
        "print(pelicula_menos_rentable)"
      ],
      "metadata": {
        "colab": {
          "base_uri": "https://localhost:8080/"
        },
        "id": "LckAlINyspO9",
        "outputId": "1b4a3495-68cb-4809-95ef-beeb7fcba432"
      },
      "execution_count": 264,
      "outputs": [
        {
          "output_type": "stream",
          "name": "stdout",
          "text": [
            "La película menos rentable: I Spit on Your Grave 2\n",
            "Movie Title    I Spit on Your Grave 2\n",
            "Movie Year                       2013\n",
            "Runtime                           106\n",
            "Genre                Horror, Thriller\n",
            "Rating                            5.7\n",
            "Director             Steven R. Monroe\n",
            "Votes                          31,209\n",
            "Gross                          $0.00M\n",
            "Name: 599, dtype: object\n"
          ]
        }
      ]
    },
    {
      "cell_type": "markdown",
      "source": [
        "Promedio de duración"
      ],
      "metadata": {
        "id": "uKov5tq5Qcou"
      }
    },
    {
      "cell_type": "code",
      "source": [
        "# Calcular el promedio numérico de la columna 'Runtime'\n",
        "promedio_duracion = df_movies_1980['Runtime'].mean()\n",
        "\n",
        "# Imprimir el resultado\n",
        "print(f\"El promedio de duración de las películas es: {promedio_duracion:.2f}\")"
      ],
      "metadata": {
        "colab": {
          "base_uri": "https://localhost:8080/"
        },
        "id": "t4YOvb8tQgAj",
        "outputId": "01fde244-b34d-4b17-e950-babac362d06d"
      },
      "execution_count": 265,
      "outputs": [
        {
          "output_type": "stream",
          "name": "stdout",
          "text": [
            "El promedio de duración de las películas es: 101.11\n"
          ]
        }
      ]
    },
    {
      "cell_type": "markdown",
      "source": [
        "# Encontrar la desviación estándar de las calificaciones de la película en el sub dataFrame"
      ],
      "metadata": {
        "id": "XM-wyGNqRdYK"
      }
    },
    {
      "cell_type": "code",
      "source": [
        "# Calcular la desviación estándar de la columna 'Rating'\n",
        "desviacion_estandar_rating = df_movies_1980['Rating'].std()\n",
        "\n",
        "# Imprimir el resultado\n",
        "print(f\"La desviación estándar de las calificaciones de la película es:\\\n",
        " {desviacion_estandar_rating:.2f}\")"
      ],
      "metadata": {
        "colab": {
          "base_uri": "https://localhost:8080/"
        },
        "id": "KbLTV-7NRgHs",
        "outputId": "e501d7e0-8c77-40ef-eb9b-3b7add133c75"
      },
      "execution_count": 266,
      "outputs": [
        {
          "output_type": "stream",
          "name": "stdout",
          "text": [
            "La desviación estándar de las calificaciones de la película es: 0.88\n"
          ]
        }
      ]
    },
    {
      "cell_type": "markdown",
      "source": [
        "# Encontrar el promedio de votos agrupados género"
      ],
      "metadata": {
        "id": "wZlFRjpFTmaR"
      }
    },
    {
      "cell_type": "code",
      "source": [
        "# Analizar los valores dentro de la columna 'Votes'\n",
        "print(df_movies['Votes'].head(3))"
      ],
      "metadata": {
        "colab": {
          "base_uri": "https://localhost:8080/"
        },
        "id": "iP8XFKrDlASE",
        "outputId": "ffe17e52-75b0-40f1-81b6-6cc587c176fc"
      },
      "execution_count": 267,
      "outputs": [
        {
          "output_type": "stream",
          "name": "stdout",
          "text": [
            "0    09,05,0275\n",
            "1      6,89,068\n",
            "2     10,51,582\n",
            "Name: Votes, dtype: object\n"
          ]
        }
      ]
    },
    {
      "cell_type": "markdown",
      "source": [
        "Debemos limpiar los datos.\n",
        "\n",
        "Suposición: Todas las comas deben ser eliminadas, y se debe pasar a número entero"
      ],
      "metadata": {
        "id": "ISSjHbIYmRET"
      }
    },
    {
      "cell_type": "code",
      "source": [
        "# Verificar si la columna 'Votes' es tipo object, es decir, texto\n",
        "if df_movies['Votes'].dtype == 'object':\n",
        "    # Reemplazar comas ',' por cadenas vacías ''\n",
        "    df_movies.loc[:, ('Votes')] = df_movies['Votes'].apply(\n",
        "        lambda x: str(x).replace(',', ''))\n",
        "\n",
        "    # Reemplazar strings vacíos por 0 para que se pueda convertir a entero\n",
        "    df_movies.loc[:, 'Votes'] = df_movies['Votes'].replace(\n",
        "        '', 0)\n",
        "\n",
        "# Convertir la columna 'Votes' a numérica\n",
        "df_movies.loc[:, ('Votes')] = pd.to_numeric(\n",
        "    df_movies['Votes'], errors='coerce')\n",
        "\n",
        "# Mostrar primeras filas de la columna\n",
        "print(df_movies['Votes'].head(3))"
      ],
      "metadata": {
        "colab": {
          "base_uri": "https://localhost:8080/"
        },
        "id": "NH7hJwkHTnuU",
        "outputId": "d6ff8be0-3176-4956-8a52-55bfd4387173"
      },
      "execution_count": 268,
      "outputs": [
        {
          "output_type": "stream",
          "name": "stdout",
          "text": [
            "0    9050275\n",
            "1     689068\n",
            "2    1051582\n",
            "Name: Votes, dtype: object\n"
          ]
        }
      ]
    },
    {
      "cell_type": "markdown",
      "source": [
        "Procedamos entonces con encontrar el promedio de votos en función del género"
      ],
      "metadata": {
        "id": "dxzk0etMtxOR"
      }
    },
    {
      "cell_type": "code",
      "source": [
        "# Calcular el promedio de votos por género\n",
        "df_promedio_votos_genero = df_movies.groupby('Genre')['Votes'].mean()\n",
        "\n",
        "# Organizar el DataFrame de manera descendente\n",
        "df_promedio_votos_genero = df_promedio_votos_genero.sort_values(\n",
        "    ascending=False)\n",
        "\n",
        "# Imprimir los resultados\n",
        "print(df_promedio_votos_genero)"
      ],
      "metadata": {
        "colab": {
          "base_uri": "https://localhost:8080/"
        },
        "id": "YCn78a4vt2JA",
        "outputId": "9ef5364a-3cd9-4801-9895-4778b817d9b2"
      },
      "execution_count": 269,
      "outputs": [
        {
          "output_type": "stream",
          "name": "stdout",
          "text": [
            "Genre\n",
            "Animation, Comedy, Drama      1121966.0\n",
            "Drama, Horror, Western        1070954.0\n",
            "Adventure, Drama, Family      1060812.0\n",
            "Crime, Horror, Western        1031948.0\n",
            "Action, Drama, Fantasy        1018291.0\n",
            "                                ...    \n",
            "Adventure, Fantasy, Horror      17201.0\n",
            "Fantasy, Horror, Sci-Fi          4838.0\n",
            "Adventure, Crime, Drama          4151.0\n",
            "Horror, Musical, Sci-Fi          2581.0\n",
            "Action, Horror, War               287.0\n",
            "Name: Votes, Length: 79, dtype: object\n"
          ]
        }
      ]
    },
    {
      "cell_type": "markdown",
      "source": [
        "# Encontrar los directores y el número de ocurrencias en el dataset, ordenados descendentemente"
      ],
      "metadata": {
        "id": "5QH9kJgAvOko"
      }
    },
    {
      "cell_type": "code",
      "source": [
        "# Encontrar los valores únicos en la columna de directores\n",
        "df_directores_unicos = df_movies['Director'].unique()\n",
        "\n",
        "# Contar el número de ocurrencias de cada director\n",
        "df_conteo_directores = df_movies['Director'].value_counts()\n",
        "\n",
        "# Ordenar el DataFrame de manera descendente\n",
        "df_conteo_directores = df_conteo_directores.sort_values(ascending=False)\n",
        "\n",
        "# Imprimir los resultados\n",
        "print(df_conteo_directores)\n",
        "\n",
        "# Añadir más información\n",
        "print(f\"\\nEl número de directores únicos es: {len(df_directores_unicos)}\")\n",
        "print(f\"El director con más películas es: {df_conteo_directores.index[0]}\")"
      ],
      "metadata": {
        "colab": {
          "base_uri": "https://localhost:8080/"
        },
        "id": "HwOQASYZvPtl",
        "outputId": "adca3f61-172f-409a-95ba-171d0c944ca7"
      },
      "execution_count": 270,
      "outputs": [
        {
          "output_type": "stream",
          "name": "stdout",
          "text": [
            "Director\n",
            "John Carpenter               11\n",
            "Wes Craven                   11\n",
            "David Cronenberg              8\n",
            "Guillermo del Toro            7\n",
            "James Wan                     7\n",
            "                             ..\n",
            "Neil LaBute                   1\n",
            "John Boorman                  1\n",
            "Joe Alves                     1\n",
            "Mark Jones                    1\n",
            "Christian E. Christiansen     1\n",
            "Name: count, Length: 544, dtype: int64\n",
            "\n",
            "El número de directores únicos es: 544\n",
            "El director con más películas es: John Carpenter\n"
          ]
        }
      ]
    },
    {
      "cell_type": "markdown",
      "source": [
        "# Encontrar la películas mejor calificadas y que pertenezcan incluyan estos 3 géneros (Horror, Mystery, Sci-Fi)"
      ],
      "metadata": {
        "id": "uK-Z6xwIwQvL"
      }
    },
    {
      "cell_type": "code",
      "source": [
        "# Definir la condición de búsqueda para realizar el filtro\n",
        "condicion = df_movies['Genre'].str.contains('Horror') & \\\n",
        "            df_movies['Genre'].str.contains('Mystery') & \\\n",
        "            df_movies['Genre'].str.contains('Sci-Fi')\n",
        "\n",
        "# Filtrar por las películas de Horror, Misterio y Ciencia ficción\n",
        "df_genero_hms = df_movies[condicion]\n",
        "\n",
        "# Organizar el DataFrame de manera descendente\n",
        "df_genero_hms = df_genero_hms.sort_values(by='Rating', ascending=False)\n",
        "\n",
        "# Definir las columnas de interés\n",
        "columnas_interes = ['Movie Title', 'Genre', 'Rating']\n",
        "\n",
        "# Imprimir los resultados\n",
        "print(df_genero_hms[columnas_interes].head(10).reset_index(drop=True))"
      ],
      "metadata": {
        "colab": {
          "base_uri": "https://localhost:8080/"
        },
        "id": "hIVNU0WwwTwo",
        "outputId": "7abdca4b-483e-4923-f5df-a2b3ccdbecdf"
      },
      "execution_count": 271,
      "outputs": [
        {
          "output_type": "stream",
          "name": "stdout",
          "text": [
            "          Movie Title                    Genre  Rating\n",
            "0           The Thing  Horror, Mystery, Sci-Fi     8.2\n",
            "1          Timecrimes  Horror, Mystery, Sci-Fi     7.1\n",
            "2                Nope  Horror, Mystery, Sci-Fi     6.8\n",
            "3            eXistenZ  Horror, Mystery, Sci-Fi     6.8\n",
            "4            Bird Box  Horror, Mystery, Sci-Fi     6.6\n",
            "5         The Faculty  Horror, Mystery, Sci-Fi     6.6\n",
            "6           Possessor  Horror, Mystery, Sci-Fi     6.5\n",
            "7          Time Lapse  Horror, Mystery, Sci-Fi     6.5\n",
            "8         The Thing I  Horror, Mystery, Sci-Fi     6.2\n",
            "9  Color Out of Space  Horror, Mystery, Sci-Fi     6.2\n"
          ]
        }
      ]
    }
  ]
}